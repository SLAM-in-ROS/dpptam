{
 "cells": [
  {
   "cell_type": "markdown",
   "metadata": {},
   "source": [
    "# DPPTAM\n",
    "\n",
    "DPPTAM is a direct monocular odometry algorithm that estimates a dense reconstruction of a scene in real-time on a CPU. Highly textured image areas are mapped using standard direct mapping techniques, that minimize the photometric error across different views. We make the assumption that homogeneous-color regions belong to approximately planar areas.\n",
    "Related Publication:\n",
    "\n",
    "[1] Alejo Concha, Javier Civera. DPPTAM: Dense Piecewise Planar Tracking and Mapping from a Monocular Sequence IEEE/RSJ International Conference on Intelligent Robots and Systems (IROS15), Hamburg, Germany, 2015\n",
    "\n",
    "Video of the results that you should expect in the example sequences:\n",
    "\n",
    "https://www.youtube.com/watch?v=1R3DkwKrWiI\n",
    "\n",
    "### License\n",
    "\n",
    "DPPTAM is licensed under the GNU General Public License Version 3 (GPLv3), please see http://www.gnu.org/licenses/gpl.html.\n",
    "\n",
    "For commercial purposes, please contact the authors.\n",
    "\n",
    "If you use DPPTAM in an academic work, please cite:"
   ]
  },
  {
   "cell_type": "code",
   "execution_count": null,
   "metadata": {},
   "outputs": [],
   "source": [
    "@inproceedings{conchaIROS15,\n",
    "title={{Dense Piecewise Planar Tracking and Mapping  from a Monocular Sequence}},\n",
    "author={Concha, Alejo and Civera, Javier},\n",
    "booktitle={Proc. of The International Conference on Intelligent Robots and Systems (IROS)},\n",
    "year={2015}}"
   ]
  },
  {
   "cell_type": "markdown",
   "metadata": {},
   "source": [
    "### Disclaimer\n",
    "\n",
    "This site and the code provided here are under active development. Even though we try to only release working high quality code, this version might still contain some issues. Please use it with caution.\n",
    "\n",
    "## Dependencies\n",
    "\n",
    "ROS:\n",
    "\n",
    "We have tested DPPTAM in Ubuntu 14.04 with ROS Indigo.\n",
    "\n",
    "To install ROS (indigo) use the following command:"
   ]
  },
  {
   "cell_type": "code",
   "execution_count": null,
   "metadata": {},
   "outputs": [],
   "source": [
    "sudo apt-get install ros-indigo-desktop"
   ]
  },
  {
   "cell_type": "markdown",
   "metadata": {},
   "source": [
    "Or check the following link if you have any issue:"
   ]
  },
  {
   "cell_type": "code",
   "execution_count": null,
   "metadata": {},
   "outputs": [],
   "source": [
    "http://wiki.ros.org/indigo/Installation/Ubuntu\n",
    " "
   ]
  },
  {
   "cell_type": "markdown",
   "metadata": {},
   "source": [
    "PCL library for visualization:"
   ]
  },
  {
   "cell_type": "code",
   "execution_count": null,
   "metadata": {},
   "outputs": [],
   "source": [
    "sudo apt-get install ros-indigo-pcl-ros"
   ]
  },
  {
   "cell_type": "markdown",
   "metadata": {},
   "source": [
    "BOOST library to launch the different threads:"
   ]
  },
  {
   "cell_type": "code",
   "execution_count": null,
   "metadata": {},
   "outputs": [],
   "source": [
    "sudo apt-get install libboost-all-dev "
   ]
  },
  {
   "cell_type": "markdown",
   "metadata": {},
   "source": [
    "## Installation"
   ]
  },
  {
   "cell_type": "code",
   "execution_count": null,
   "metadata": {},
   "outputs": [],
   "source": [
    "git clone  https://github.com/alejocb/dpptam.git"
   ]
  },
  {
   "cell_type": "markdown",
   "metadata": {},
   "source": [
    "## Compilation"
   ]
  },
  {
   "cell_type": "code",
   "execution_count": null,
   "metadata": {},
   "outputs": [],
   "source": [
    "catkin_make --pkg dpptam"
   ]
  },
  {
   "cell_type": "markdown",
   "metadata": {},
   "source": [
    "Third Party: SUPERPIXELS COMPILATION\n",
    "\n",
    "Code used -> Efficient Graph-Based Image Segmentation. P. Felzenszwalb, D. Huttenlocher. International Journal of Computer Vision, Vol. 59, No. 2, September 2004"
   ]
  },
  {
   "cell_type": "code",
   "execution_count": null,
   "metadata": {},
   "outputs": [],
   "source": [
    "cd root/catkin_workspace/src/dpptam/ThirdParty/segment\n",
    "make"
   ]
  },
  {
   "cell_type": "markdown",
   "metadata": {},
   "source": [
    "## Usage\n",
    "\n",
    "Launch dpptam from your 'catkin_workspace' folder:"
   ]
  },
  {
   "cell_type": "code",
   "execution_count": null,
   "metadata": {},
   "outputs": [],
   "source": [
    "cd root/catkin_workspace \n",
    "rosrun dpptam dpptam"
   ]
  },
  {
   "cell_type": "markdown",
   "metadata": {},
   "source": [
    "Notice that the location of dpptam should be the following:"
   ]
  },
  {
   "cell_type": "code",
   "execution_count": null,
   "metadata": {},
   "outputs": [],
   "source": [
    "root/catkin_workspace/src/dpptam"
   ]
  },
  {
   "cell_type": "markdown",
   "metadata": {},
   "source": [
    "Launch the visualizer of the current frame"
   ]
  },
  {
   "cell_type": "code",
   "execution_count": null,
   "metadata": {},
   "outputs": [],
   "source": [
    "rosrun image_view image_view image:=/dpptam/camera/image"
   ]
  },
  {
   "cell_type": "markdown",
   "metadata": {},
   "source": [
    "Launch the visualizer of the map"
   ]
  },
  {
   "cell_type": "code",
   "execution_count": null,
   "metadata": {},
   "outputs": [],
   "source": [
    "rosrun rviz rviz"
   ]
  },
  {
   "cell_type": "markdown",
   "metadata": {},
   "source": [
    "We are working on an automatic visualizer, but for now, check the following screenshot to set up the rviz visualizer:"
   ]
  },
  {
   "cell_type": "code",
   "execution_count": null,
   "metadata": {},
   "outputs": [],
   "source": [
    "http://imgur.com/OA8i3Dj      "
   ]
  },
  {
   "cell_type": "markdown",
   "metadata": {},
   "source": [
    "Visualization of the results using '.ply' files.\n",
    "\n",
    "You can alternatively use an offline visualizer (like 'meshlab') to see better the results. The files are saved in dpptam/src/map_and_poses\n",
    "\n",
    "To execute the provided sequences:"
   ]
  },
  {
   "cell_type": "code",
   "execution_count": null,
   "metadata": {},
   "outputs": [],
   "source": [
    "rosbag play lab_unizar.bag\n",
    "rosbag play lab_upenn.bag"
   ]
  },
  {
   "cell_type": "markdown",
   "metadata": {},
   "source": [
    "There are two parameters that you have to modify (before executing a sequence) in dpptam/src/data.yml:\n",
    "\n",
    "1-) Intrinsic parameters of the camera:\n",
    "\n",
    "'cameraMatrix'\n",
    "\n",
    "'distCoeffs'\n",
    "\n",
    "2-) Camera topic\n",
    "\n",
    "camera_path:\"/image_raw\"\n",
    "\n",
    "These are the parameters and the links for the sequences that we provide: \n",
    "\n",
    "\n",
    "lab_unizar.bag -> http://webdiis.unizar.es/~jcivera/lab_unizar.bag\n",
    "\n",
    "Update the file dpptam/src/data.yml with the follwing 'camera_path', 'cameraMatrix' and 'distCoeffs'"
   ]
  },
  {
   "cell_type": "code",
   "execution_count": null,
   "metadata": {},
   "outputs": [],
   "source": [
    "camera_path:\"/camera/rgb/image_color\"\n",
    "cameraMatrix: !!opencv-matrix\n",
    "   rows: 3\n",
    "   cols: 3\n",
    "   dt: d\n",
    "   data: [ 520.908620, 0., 325.141442, 0., 521.007327 , 249.701764, 0., 0., 1. ]\n",
    "distCoeffs: !!opencv-matrix\n",
    "   rows: 5\n",
    "   cols: 1\n",
    "   dt: d\n",
    "   data: [ 0.231222, -0.784899, -0.003257, -0.000105, 0.917205 ]"
   ]
  },
  {
   "cell_type": "code",
   "execution_count": null,
   "metadata": {},
   "outputs": [],
   "source": [
    "\n",
    "lab_upen.bag -> http://webdiis.unizar.es/~jcivera/lab_upenn.bag"
   ]
  },
  {
   "cell_type": "markdown",
   "metadata": {},
   "source": [
    "Update the file dpptam/src/data.yml with the follwing 'camera_path', 'cameraMatrix' and 'distCoeffs'"
   ]
  },
  {
   "cell_type": "code",
   "execution_count": null,
   "metadata": {},
   "outputs": [],
   "source": [
    "camera_path:\"/mv_25000432/image_raw\"\n",
    "cameraMatrix: !!opencv-matrix\n",
    "   rows: 3\n",
    "   cols: 3\n",
    "   dt: d\n",
    "   data: [624.63,0,372.58,0,624.53,246.89,0,0,1]\n",
    "distCoeffs: !!opencv-matrix\n",
    "   rows: 5\n",
    "   cols: 1\n",
    "   dt: d\n",
    "   data: [-0.429,0.188,2.299e-06,0.00051,0]"
   ]
  },
  {
   "cell_type": "markdown",
   "metadata": {},
   "source": [
    "The initialization is performed assuming that the first map is a plane parallel to the camera. It converges in a few seconds to the right solution in most of the cases. Nevertheless, we recommend to initialize in a well textured area with a relatively slow motion.\n",
    "\n",
    "In order to exploit the benefits of the use of superpixels for low texture areas we provide the following hint: Try to 'see' the low texture area in at least 3 different views with enough parallax, so the supeprixel can be matched in multiple views. Notice that superpixels triangulation need a larger parallax than feature/photometric triangulation.\n",
    "\n",
    "## Parameters\n",
    "\n",
    "There are a few tuneable parameters that you can modify in dpptam/src/data.yml:\n",
    "\n",
    "1-) Superpixel calculation\n",
    "\n",
    "calculate_superpixels: [bool] If 1 it will calculate 3D superpixels.\n",
    "\n",
    "2-) Number of frames for mapping\n",
    "\n",
    "num_cameras_mapping_th: [int]. Number of frames that you want to use to estimate the depth maps. Default: 9.\n",
    "\n",
    "3-) Minimum parallax required for mapping\n",
    "\n",
    "translational_ratio_th_min: [double]. Minimum parallax to insert a keyframe. Default: 0.075. Typical values [0.03-0.15].\n",
    "\n",
    "4-) Degenerated cases in 3D superpixel matching\n",
    "\n",
    "limit_ratio_sing_val: [double]. This threshold deals with the degenerated cases in 3D superpixel calculation. Smaller values -> less outliers. Default: 100. Typical values [10-1000].\n",
    "\n",
    "5-) Minimum normalized residual threshold required.\n",
    "\n",
    "limit_normalized_residual: [double]. This threshold accounts for the minimum error required in superpixel calculation. Smaller values -> less outliers. Default: 0.30. Typical values [0.05-0.50].\n",
    "\n",
    "6-) Minimum number of matches of 3D superpixels in multiple views to achieve multiview consistency.\n",
    "\n",
    "matchings_active_search: [int]. Number of matches required of the 3D superpixel in multiple views. Larger values -> less outliers. Default: 3. Typical values [0-4].\n",
    "\n",
    "## Contact\n",
    "\n",
    "If you have any issue compiling/running dpptam or you would like to know anything about the code, please contact the authors:"
   ]
  },
  {
   "cell_type": "code",
   "execution_count": null,
   "metadata": {},
   "outputs": [],
   "source": [
    "Alejo Concha -> aconchabelenguer@gmail.com\n",
    "\n",
    "Javier Civera -> jcivera@unizar.es"
   ]
  }
 ],
 "metadata": {
  "kernelspec": {
   "display_name": "Bash",
   "language": "bash",
   "name": "bash"
  },
  "language_info": {
   "codemirror_mode": "shell",
   "file_extension": ".sh",
   "mimetype": "text/x-sh",
   "name": "bash"
  }
 },
 "nbformat": 4,
 "nbformat_minor": 2
}
